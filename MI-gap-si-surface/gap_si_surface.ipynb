{
 "cells": [
  {
   "cell_type": "markdown",
   "metadata": {},
   "source": [
    "In this tutorial we will be using a Gaussian Approximation Potentials to analyse results of TB DFT calculations of Si surface. Along the way we will learn about different descriptors (2b, 3b, soap) to describe local atomic environment in order to predict energies and forces of Si surface. "
   ]
  },
  {
   "cell_type": "code",
   "execution_count": null,
   "metadata": {
    "ExecuteTime": {
     "end_time": "2019-09-25T23:25:37.431783Z",
     "start_time": "2019-09-25T23:25:34.912288Z"
    }
   },
   "outputs": [],
   "source": [
    "import os\n",
    "\n",
    "import numpy as np\n",
    "import matplotlib.pylab as plt\n",
    "\n",
    "from quippy.potential import Potential\n",
    "from quippy.descriptors import Descriptor\n",
    "\n",
    "from ase import Atoms, units \n",
    "from ase.build import add_vacuum\n",
    "from ase.lattice.cubic import Diamond\n",
    "from ase.io import write\n",
    "\n",
    "from ase.constraints import FixAtoms\n",
    "\n",
    "from ase.md.velocitydistribution import MaxwellBoltzmannDistribution\n",
    "from ase.md.verlet import VelocityVerlet\n",
    "from ase.md.langevin import Langevin\n",
    "\n",
    "from ase.optimize.precon import PreconLBFGS, Exp\n",
    "\n",
    "from gap_si_surface import ViewStructure"
   ]
  },
  {
   "cell_type": "markdown",
   "metadata": {},
   "source": [
    "## Part I: MD, descriptors\n",
    "### Parameters"
   ]
  },
  {
   "cell_type": "markdown",
   "metadata": {},
   "source": [
    "We can define some parameters here for the MD calculations:"
   ]
  },
  {
   "cell_type": "code",
   "execution_count": null,
   "metadata": {
    "ExecuteTime": {
     "end_time": "2019-09-25T23:25:37.468121Z",
     "start_time": "2019-09-25T23:25:37.445712Z"
    }
   },
   "outputs": [],
   "source": [
    "T = 1000.0 # Temperature [Kelvin]\n",
    "timestep = 1.0 * units.fs"
   ]
  },
  {
   "cell_type": "markdown",
   "metadata": {},
   "source": [
    "## System"
   ]
  },
  {
   "cell_type": "markdown",
   "metadata": {},
   "source": [
    "Defining configuration for Si slab"
   ]
  },
  {
   "cell_type": "code",
   "execution_count": null,
   "metadata": {
    "ExecuteTime": {
     "end_time": "2019-09-25T23:25:37.582000Z",
     "start_time": "2019-09-25T23:25:37.480222Z"
    },
    "scrolled": false
   },
   "outputs": [],
   "source": [
    "def build_slab(size=(1,2,2), vacuum=10.):\n",
    "    # Build Si lattice.\n",
    "    # lattice = Diamond('Si', directions=([1, 0, 0], [0, 1, 0], [0, 0, 1]), latticeconstant=5.44, size=size)\n",
    "    lattice = Diamond('Si', latticeconstant=5.44, size=size)\n",
    "    atoms = Atoms(lattice)\n",
    "    \n",
    "\n",
    "    # Fixing the bottom layer     \n",
    "    bottom = atoms.positions[:,2].min()\n",
    "    fixed_mask = (abs(atoms.positions[:,2] - bottom) < 2.0)\n",
    "    atoms.set_constraint(FixAtoms(mask=fixed_mask))\n",
    "    \n",
    "    # build surface by adding space to z direction\n",
    "    add_vacuum(atoms, vacuum)\n",
    "    # atoms.center(vacuum=10.0, axis=2)\n",
    "    \n",
    "    return atoms\n",
    "\n",
    "\n",
    "atoms = build_slab()\n",
    "print('Number of atoms:', len(atoms))"
   ]
  },
  {
   "cell_type": "markdown",
   "metadata": {},
   "source": [
    "Let's visualise the initial configuration:"
   ]
  },
  {
   "cell_type": "code",
   "execution_count": null,
   "metadata": {
    "ExecuteTime": {
     "end_time": "2019-09-25T23:25:38.342587Z",
     "start_time": "2019-09-25T23:25:37.589076Z"
    },
    "scrolled": true
   },
   "outputs": [],
   "source": [
    "view = ViewStructure(atoms, repetition=(2,2,1))\n",
    "view"
   ]
  },
  {
   "cell_type": "markdown",
   "metadata": {},
   "source": [
    "## MD dynamics with TB DFTB"
   ]
  },
  {
   "cell_type": "markdown",
   "metadata": {},
   "source": [
    "We use TB DFTB potential to calculate the potential energies and forces for the each timestep:"
   ]
  },
  {
   "cell_type": "code",
   "execution_count": null,
   "metadata": {
    "ExecuteTime": {
     "end_time": "2019-09-25T22:42:17.925199Z",
     "start_time": "2019-09-25T22:42:14.803045Z"
    }
   },
   "outputs": [],
   "source": [
    "# attach tight binding calculator\n",
    "qm_pot = Potential('TB DFTB', param_filename='/opt/quip/doc/Tutorials/params.xml')\n",
    "atoms.set_calculator(qm_pot)\n",
    "\n",
    "# Thermalize atoms\n",
    "MaxwellBoltzmannDistribution(atoms, 2.0 * T * units.kB)\n",
    "# dynamics = VelocityVerlet(atoms, timestep)\n",
    "dynamics = Langevin(atoms, timestep, T * units.kB, 0.002)\n",
    "    \n",
    "#attach observer to dynamics to track quantity of interest (temperature)\n",
    "def print_status():    \n",
    "    print('Step = {}, time = {} [fs], T = {} [K]'.format(\n",
    "        dynamics.nsteps,\n",
    "        dynamics.nsteps * dynamics.dt / units.fs,\n",
    "        atoms.get_kinetic_energy() / (1.5 * units.kB * len(atoms))\n",
    "    ))\n",
    "\n",
    "def print_energy(a=atoms):  # store a reference to atoms in the definition.\n",
    "    \"\"\"Function to print the potential, kinetic and total energy.\"\"\"\n",
    "    epot = a.get_potential_energy() / len(a)\n",
    "    ekin = a.get_kinetic_energy() / len(a)\n",
    "    print('Energy per atom: Epot = %.3feV  Ekin = %.3feV (T=%3.0fK)  '\n",
    "          'Etot = %.3feV' % (epot, ekin, ekin / (1.5 * units.kB), epot + ekin))\n",
    "    \n",
    "dynamics.attach(print_status, interval=10)\n",
    "dynamics.attach(print_energy, interval=1)"
   ]
  },
  {
   "cell_type": "markdown",
   "metadata": {},
   "source": [
    "Let's do the dynamics:"
   ]
  },
  {
   "cell_type": "code",
   "execution_count": null,
   "metadata": {
    "ExecuteTime": {
     "end_time": "2019-09-25T22:42:49.846543Z",
     "start_time": "2019-09-25T22:42:17.929760Z"
    },
    "scrolled": false
   },
   "outputs": [],
   "source": [
    "dynamics.run(steps=100)\n",
    "\n",
    "# for _ in range(150):\n",
    "#     dynamics.run(steps=1)"
   ]
  },
  {
   "cell_type": "code",
   "execution_count": null,
   "metadata": {
    "ExecuteTime": {
     "end_time": "2019-09-25T22:42:50.108701Z",
     "start_time": "2019-09-25T22:42:49.877189Z"
    },
    "scrolled": true
   },
   "outputs": [],
   "source": [
    "view = ViewStructure(atoms)\n",
    "view"
   ]
  },
  {
   "cell_type": "markdown",
   "metadata": {},
   "source": [
    "## Using descriptors\n",
    "\n",
    "In this section we will intorduce some descriptors which could be useful for describing local atomic enviroments\n",
    "\n",
    "You can find more details on the following webpage:\n",
    "- https://libatoms.github.io/QUIP/Tutorials/quippy-descriptor-tutorial.html"
   ]
  },
  {
   "cell_type": "markdown",
   "metadata": {},
   "source": [
    "## Pairwise\n",
    "\n",
    "Here we use a simple pair distance between Silicon atoms, with a cutoff of 4.0 Angstrom. There are several descriptors that can do this, one is distance_2b, which takes a cutoff argument. Alternatively, the distance_Nb descriptor could also do this, with order=2. This is more general, order=3 is a triangle-like three-body descriptor of the three sides of a triangle of 3 atoms."
   ]
  },
  {
   "cell_type": "code",
   "execution_count": null,
   "metadata": {
    "ExecuteTime": {
     "end_time": "2019-09-25T22:42:50.147192Z",
     "start_time": "2019-09-25T22:42:50.113989Z"
    }
   },
   "outputs": [],
   "source": [
    "desc = Descriptor(\"distance_Nb order=2 cutoff=4.0 n_Z=1 Zs={14}\")"
   ]
  },
  {
   "cell_type": "markdown",
   "metadata": {},
   "source": [
    "This descriptor is very simple: it is scalar (dimension 1), and hence only has a two (but equivalent) permutations."
   ]
  },
  {
   "cell_type": "code",
   "execution_count": null,
   "metadata": {
    "ExecuteTime": {
     "end_time": "2019-09-25T22:42:50.175572Z",
     "start_time": "2019-09-25T22:42:50.163656Z"
    },
    "scrolled": true
   },
   "outputs": [],
   "source": [
    "desc._n_perm # number of permutations"
   ]
  },
  {
   "cell_type": "code",
   "execution_count": null,
   "metadata": {
    "ExecuteTime": {
     "end_time": "2019-09-25T22:42:50.228379Z",
     "start_time": "2019-09-25T22:42:50.196907Z"
    }
   },
   "outputs": [],
   "source": [
    "desc.cutoff()"
   ]
  },
  {
   "cell_type": "code",
   "execution_count": null,
   "metadata": {
    "ExecuteTime": {
     "end_time": "2019-09-25T22:42:50.257858Z",
     "start_time": "2019-09-25T22:42:50.238776Z"
    }
   },
   "outputs": [],
   "source": [
    "desc.permutations() # array of permutation arrays\n"
   ]
  },
  {
   "cell_type": "markdown",
   "metadata": {},
   "source": [
    "Many descriptors rely on the neighbour connectivity, so we need to call calc_connect, after setting the Atoms cutoff:"
   ]
  },
  {
   "cell_type": "code",
   "execution_count": null,
   "metadata": {
    "ExecuteTime": {
     "end_time": "2019-09-25T22:42:50.278714Z",
     "start_time": "2019-09-25T22:42:50.264308Z"
    },
    "scrolled": true
   },
   "outputs": [],
   "source": [
    "desc.cutoff()"
   ]
  },
  {
   "cell_type": "markdown",
   "metadata": {},
   "source": [
    "We can now calculate how many instances of this descriptor are found in an Atoms (or ASEAtoms) object:"
   ]
  },
  {
   "cell_type": "code",
   "execution_count": null,
   "metadata": {
    "ExecuteTime": {
     "end_time": "2019-09-25T22:42:50.314858Z",
     "start_time": "2019-09-25T22:42:50.290906Z"
    }
   },
   "outputs": [],
   "source": [
    "desc.count(atoms)"
   ]
  },
  {
   "cell_type": "markdown",
   "metadata": {},
   "source": [
    "This also works transparently for iterables (such as lists), returning a list of the counts.\n",
    "\n",
    "We can also calculate the actual descriptor values – in this case, the list of pairwise distances:"
   ]
  },
  {
   "cell_type": "code",
   "execution_count": null,
   "metadata": {
    "ExecuteTime": {
     "end_time": "2019-09-25T22:42:50.541321Z",
     "start_time": "2019-09-25T22:42:50.319855Z"
    },
    "scrolled": false
   },
   "outputs": [],
   "source": [
    "d = desc.calc(atoms)\n",
    "# for k,v in d.items():\n",
    "#     print(k)\n",
    "#     print(type(v))\n",
    "d"
   ]
  },
  {
   "cell_type": "markdown",
   "metadata": {},
   "source": [
    "Notice that the first array is called cutoff, and it supplies the value of a cutoff function, implicit in all descriptors, which takes the descriptor value to zero as the atoms approach the cutoff, i.e. in this case as the distance between the two atoms approaches the cutoff. It is more complicated for three-body and higher-body descriptors, but the final result is always a descriptor which changes smoothly with atomic positions.\n",
    "\n",
    "Here is a histogram of the resulting descriptor array, i.e. of the interatomic distances"
   ]
  },
  {
   "cell_type": "code",
   "execution_count": null,
   "metadata": {
    "ExecuteTime": {
     "end_time": "2019-09-25T22:42:51.120942Z",
     "start_time": "2019-09-25T22:42:50.556799Z"
    }
   },
   "outputs": [],
   "source": [
    "plt.hist(d['data'], bins=40)\n",
    "plt.show()"
   ]
  },
  {
   "cell_type": "markdown",
   "metadata": {},
   "source": [
    "Calculate size of descriptor data:\n"
   ]
  },
  {
   "cell_type": "code",
   "execution_count": null,
   "metadata": {
    "ExecuteTime": {
     "end_time": "2019-09-25T22:42:51.251122Z",
     "start_time": "2019-09-25T22:42:51.125693Z"
    }
   },
   "outputs": [],
   "source": [
    "desc.sizes(atoms)"
   ]
  },
  {
   "cell_type": "code",
   "execution_count": null,
   "metadata": {
    "ExecuteTime": {
     "end_time": "2019-09-25T22:42:51.282787Z",
     "start_time": "2019-09-25T22:42:51.255319Z"
    },
    "scrolled": true
   },
   "outputs": [],
   "source": [
    "n_desc, n_cross = desc.sizes(atoms)\n",
    "print(\"n_desc=%d n_cross=%d\" % (n_desc, n_cross))"
   ]
  },
  {
   "cell_type": "code",
   "execution_count": null,
   "metadata": {
    "ExecuteTime": {
     "end_time": "2019-09-25T22:42:51.673427Z",
     "start_time": "2019-09-25T22:42:51.291495Z"
    }
   },
   "outputs": [],
   "source": [
    "plt.matshow(d['data'])"
   ]
  },
  {
   "cell_type": "markdown",
   "metadata": {},
   "source": [
    "## SOAP descriptor\n",
    "\n",
    "We will describe the environment using the SOAP descriptor. The SOAP descriptor of an atomic environment is based on a spherical harmonic expansion of the neighbour density, and truncating this expansion at some maximum numer of radial (n_max) and angular (l_max) indices gives rise to some parameters. We also need to give the cutoff within which we consider the neighbour environment.\n",
    "\n",
    "Writing the descriptor vector as $p_{ss'nn'l}$, where $s$ and $s'$ are indices that run over the different atomic species in the atom's environment, $n$ and $n'$ are radial and $l$ is an angular index."
   ]
  },
  {
   "cell_type": "code",
   "execution_count": null,
   "metadata": {
    "ExecuteTime": {
     "end_time": "2019-09-25T22:42:51.992618Z",
     "start_time": "2019-09-25T22:42:51.764995Z"
    },
    "scrolled": true
   },
   "outputs": [],
   "source": [
    "desc = Descriptor(\"soap cutoff=4 l_max=3 n_max=4 normalize=T atom_sigma=0.5 n_Z=1 Z={14} \")"
   ]
  },
  {
   "cell_type": "markdown",
   "metadata": {},
   "source": [
    "There are now only 32 descriptors, because SOAP produces one for each atom in the structure"
   ]
  },
  {
   "cell_type": "code",
   "execution_count": null,
   "metadata": {
    "ExecuteTime": {
     "end_time": "2019-09-25T22:42:52.137338Z",
     "start_time": "2019-09-25T22:42:52.042193Z"
    }
   },
   "outputs": [],
   "source": [
    "desc.sizes(atoms)\n"
   ]
  },
  {
   "cell_type": "markdown",
   "metadata": {},
   "source": [
    "But each descriptor now is a long vector, because it encodes the entire environment of the atom up to the cutoff. The length of the vector depends on l_max and n_max and also on the number of atom types."
   ]
  },
  {
   "cell_type": "code",
   "execution_count": null,
   "metadata": {
    "ExecuteTime": {
     "end_time": "2019-09-25T22:42:52.209042Z",
     "start_time": "2019-09-25T22:42:52.141414Z"
    }
   },
   "outputs": [],
   "source": [
    "d = desc.calc(atoms)\n",
    "d"
   ]
  },
  {
   "cell_type": "markdown",
   "metadata": {},
   "source": [
    "We can visualise the values of the descriptor to have an idea of how vector looks like:"
   ]
  },
  {
   "cell_type": "code",
   "execution_count": null,
   "metadata": {
    "ExecuteTime": {
     "end_time": "2019-09-25T22:42:52.559195Z",
     "start_time": "2019-09-25T22:42:52.226764Z"
    },
    "scrolled": true
   },
   "outputs": [],
   "source": [
    "plt.matshow(d['data'])"
   ]
  },
  {
   "cell_type": "markdown",
   "metadata": {},
   "source": [
    "## Part II: GAP: fitting, comparing different descriptors \n"
   ]
  },
  {
   "cell_type": "markdown",
   "metadata": {},
   "source": [
    "## Database\n",
    "\n",
    "Let's run the MD to generate configurations for the training:"
   ]
  },
  {
   "cell_type": "code",
   "execution_count": null,
   "metadata": {
    "ExecuteTime": {
     "end_time": "2019-09-25T22:45:02.171962Z",
     "start_time": "2019-09-25T22:42:52.575928Z"
    },
    "scrolled": false
   },
   "outputs": [],
   "source": [
    "db = []\n",
    "def collect_data():\n",
    "    db.append(atoms.copy())\n",
    "\n",
    "dynamics.attach(collect_data, interval=10)\n",
    "dynamics.run(steps=500)"
   ]
  },
  {
   "cell_type": "code",
   "execution_count": null,
   "metadata": {
    "ExecuteTime": {
     "end_time": "2019-09-25T22:45:02.210923Z",
     "start_time": "2019-09-25T22:45:02.174957Z"
    }
   },
   "outputs": [],
   "source": [
    "# The size of the database:\n",
    "len(db)"
   ]
  },
  {
   "cell_type": "markdown",
   "metadata": {},
   "source": [
    "Save the results into a file for using it as an input for the fitting:"
   ]
  },
  {
   "cell_type": "code",
   "execution_count": null,
   "metadata": {
    "ExecuteTime": {
     "end_time": "2019-09-25T22:45:02.275871Z",
     "start_time": "2019-09-25T22:45:02.219112Z"
    },
    "scrolled": true
   },
   "outputs": [],
   "source": [
    "# Quick fix for the shape of the 'velo' array\n",
    "for at in db:\n",
    "    at.arrays['velo'] = at.arrays['velo'].T\n",
    "\n",
    "write('/tmp/atoms_db.xyz', db)"
   ]
  },
  {
   "cell_type": "markdown",
   "metadata": {},
   "source": [
    "## Fitting the 2-body potential"
   ]
  },
  {
   "cell_type": "markdown",
   "metadata": {},
   "source": [
    "We need to calculate the atomic energy and use it as an offset during the fitting:"
   ]
  },
  {
   "cell_type": "code",
   "execution_count": null,
   "metadata": {
    "ExecuteTime": {
     "end_time": "2019-09-25T22:45:02.320206Z",
     "start_time": "2019-09-25T22:45:02.278437Z"
    }
   },
   "outputs": [],
   "source": [
    "isolated_atom = Atoms(\"Si\", positions=[[0,0,0]])\n",
    "isolated_atom.set_calculator(qm_pot)\n",
    "E0 = isolated_atom.get_potential_energy()\n",
    "E0"
   ]
  },
  {
   "cell_type": "markdown",
   "metadata": {},
   "source": [
    "We are going to use teach_sparse tool to build the GAP potential. For a detailed description of the available options you can run the following command."
   ]
  },
  {
   "cell_type": "code",
   "execution_count": null,
   "metadata": {
    "ExecuteTime": {
     "end_time": "2019-09-25T22:45:03.351826Z",
     "start_time": "2019-09-25T22:45:02.332058Z"
    },
    "scrolled": false
   },
   "outputs": [],
   "source": [
    "!gap_fit --help"
   ]
  },
  {
   "cell_type": "markdown",
   "metadata": {},
   "source": [
    "Now we have to do actual fitting by running the following command:\n",
    "\n",
    "Relevant parameters:\n",
    "- covariance_type: Type of covariance function to use. Available: ARD_SE, DOT_PRODUCT, BOND_REAL_SP-\n",
    "ACE, PP (piecewise polynomial)\n",
    "- theta_uniform: Set the width of Gaussians for the ARD_SE and PP kernel, same in each dimension\n",
    "- n_sparse: Number of sparse points to use in the sparsification of the Gaussian process\n",
    "- delta: Set the standard deviation of the Gaussian process. Typically this would be set to the standard deviation (i.e. root mean square) of the function that is approximated with the Gaussian process.\n",
    "- default_sigma: error in [energies, forces, virials, hessians]\n"
   ]
  },
  {
   "cell_type": "code",
   "execution_count": null,
   "metadata": {
    "ExecuteTime": {
     "end_time": "2019-09-25T22:45:03.370718Z",
     "start_time": "2019-09-25T22:45:03.357136Z"
    },
    "scrolled": false
   },
   "outputs": [],
   "source": [
    "# !gap_fit at_file=dummy default_sigma={0 0 0 0} gap={distance_Nb delta=0.0 covariance_type=ARD_SE --help}"
   ]
  },
  {
   "cell_type": "code",
   "execution_count": null,
   "metadata": {
    "ExecuteTime": {
     "end_time": "2019-09-25T22:45:04.580150Z",
     "start_time": "2019-09-25T22:45:03.377300Z"
    },
    "scrolled": false
   },
   "outputs": [],
   "source": [
    "!gap_fit at_file=/tmp/atoms_db.xyz \\\n",
    "gap={distance_Nb order=2 \\\n",
    "                 cutoff=5.0 \\\n",
    "                 covariance_type=ARD_SE \\\n",
    "                 theta_uniform=1.0 \\\n",
    "                 n_sparse=15 \\\n",
    "                 delta=1.0} \\\n",
    "e0=-29.716948405885105 \\\n",
    "default_sigma={0.01 0.5 0.0 0.0} \\\n",
    "do_copy_at_file=F sparse_separate_file=F \\\n",
    "gp_file=/tmp/gap_2b.xml"
   ]
  },
  {
   "cell_type": "markdown",
   "metadata": {},
   "source": [
    "We can load and use the fitted potential:"
   ]
  },
  {
   "cell_type": "code",
   "execution_count": null,
   "metadata": {
    "ExecuteTime": {
     "end_time": "2019-09-25T22:45:04.656987Z",
     "start_time": "2019-09-25T22:45:04.588090Z"
    }
   },
   "outputs": [],
   "source": [
    "gap2b = Potential(\"IP GAP\", param_filename='/tmp/gap_2b.xml')"
   ]
  },
  {
   "cell_type": "markdown",
   "metadata": {},
   "source": [
    "We can calculate the potential energies using the new potential and compare them with the TB DFTB ones"
   ]
  },
  {
   "cell_type": "code",
   "execution_count": null,
   "metadata": {
    "ExecuteTime": {
     "end_time": "2019-09-25T22:45:05.177506Z",
     "start_time": "2019-09-25T22:45:04.662859Z"
    }
   },
   "outputs": [],
   "source": [
    "qm_energies = [at.info['energy'] for at in db]\n",
    "gap2b_energies = []\n",
    "for dba in db:\n",
    "    a = dba.copy()\n",
    "    a.set_calculator(gap2b)\n",
    "    gap2b_energies.append(a.get_potential_energy())\n",
    "    "
   ]
  },
  {
   "cell_type": "code",
   "execution_count": null,
   "metadata": {
    "ExecuteTime": {
     "end_time": "2019-09-25T22:45:05.520489Z",
     "start_time": "2019-09-25T22:45:05.193607Z"
    }
   },
   "outputs": [],
   "source": [
    "Natoms = len(db[0])\n",
    "plt.scatter(np.array(qm_energies)/Natoms, np.array(gap2b_energies)/Natoms)\n",
    "plt.plot([E0-5.0, E0-5.0+0.05], [E0-5.0, E0-5.0+0.05], \"k-\")\n",
    "plt.show()"
   ]
  },
  {
   "cell_type": "markdown",
   "metadata": {},
   "source": [
    "We can also calculate the RMSE (in meV) as follows:"
   ]
  },
  {
   "cell_type": "code",
   "execution_count": null,
   "metadata": {
    "ExecuteTime": {
     "end_time": "2019-09-25T22:45:05.536356Z",
     "start_time": "2019-09-25T22:45:05.523695Z"
    }
   },
   "outputs": [],
   "source": [
    "np.sqrt(sum((np.array(qm_energies)/Natoms - np.array(gap2b_energies)/Natoms)**2)/len(gap2b_energies))"
   ]
  },
  {
   "cell_type": "markdown",
   "metadata": {},
   "source": [
    "We can generate dimers for visualising the pairwise potential: "
   ]
  },
  {
   "cell_type": "code",
   "execution_count": null,
   "metadata": {
    "ExecuteTime": {
     "end_time": "2019-09-25T22:45:05.597970Z",
     "start_time": "2019-09-25T22:45:05.546577Z"
    }
   },
   "outputs": [],
   "source": [
    "dimers = [Atoms(\"2Si\", positions=[[0,0,0], [x, 0,0]]) for x in np.linspace(1.6,6,100)] "
   ]
  },
  {
   "cell_type": "code",
   "execution_count": null,
   "metadata": {
    "ExecuteTime": {
     "end_time": "2019-09-25T22:45:06.323384Z",
     "start_time": "2019-09-25T22:45:05.606577Z"
    }
   },
   "outputs": [],
   "source": [
    "dimer_curve = []\n",
    "for dim in dimers:\n",
    "    dim.set_calculator(gap2b)\n",
    "    dimer_curve.append(dim.get_potential_energy())"
   ]
  },
  {
   "cell_type": "code",
   "execution_count": null,
   "metadata": {
    "ExecuteTime": {
     "end_time": "2019-09-25T22:45:06.525582Z",
     "start_time": "2019-09-25T22:45:06.328890Z"
    },
    "scrolled": true
   },
   "outputs": [],
   "source": [
    "plt.plot([dim.positions[1,0] for dim in dimers], np.array(dimer_curve)/2.0)\n",
    "plt.show()"
   ]
  },
  {
   "cell_type": "markdown",
   "metadata": {},
   "source": [
    "## Fitting the 2 and 3-body potential"
   ]
  },
  {
   "cell_type": "code",
   "execution_count": null,
   "metadata": {
    "ExecuteTime": {
     "end_time": "2019-09-25T22:45:12.737049Z",
     "start_time": "2019-09-25T22:45:06.528195Z"
    },
    "scrolled": false
   },
   "outputs": [],
   "source": [
    "!gap_fit at_file=/tmp/atoms_db.xyz \\\n",
    "gap={distance_Nb order=2 \\\n",
    "                 cutoff=5.0 \\\n",
    "                 covariance_type=ARD_SE \\\n",
    "                 theta_uniform=1.0 \\\n",
    "                 n_sparse=15 \\\n",
    "                 delta=1.0:\\\n",
    "     distance_Nb order=3 \\\n",
    "                 cutoff=4.0 \\\n",
    "                 covariance_type=ARD_SE \\\n",
    "                 theta_uniform=1.0 \\\n",
    "                 n_sparse=50 \\\n",
    "                 delta=0.004} \\\n",
    "e0=-29.716948405885105 \\\n",
    "default_sigma={0.005 0.5 0.0 0.0} \\\n",
    "do_copy_at_file=F sparse_separate_file=F \\\n",
    "gp_file=/tmp/gap_3b.xml"
   ]
  },
  {
   "cell_type": "markdown",
   "metadata": {},
   "source": [
    "We can load and use the fitted potential:"
   ]
  },
  {
   "cell_type": "code",
   "execution_count": null,
   "metadata": {
    "ExecuteTime": {
     "end_time": "2019-09-25T22:45:16.351886Z",
     "start_time": "2019-09-25T22:45:12.746747Z"
    }
   },
   "outputs": [],
   "source": [
    "gap3b = Potential(\"IP GAP\", param_filename='/tmp/gap_3b.xml')\n",
    "gap3b_energies = []\n",
    "for at in db:\n",
    "    a = at.copy()\n",
    "    a.set_calculator(gap3b)\n",
    "    gap3b_energies.append(a.get_potential_energy())\n",
    "    "
   ]
  },
  {
   "cell_type": "markdown",
   "metadata": {},
   "source": [
    "We can also calculate the RMSE (in meV) as follows:"
   ]
  },
  {
   "cell_type": "code",
   "execution_count": null,
   "metadata": {
    "ExecuteTime": {
     "end_time": "2019-09-25T22:45:16.372123Z",
     "start_time": "2019-09-25T22:45:16.355463Z"
    }
   },
   "outputs": [],
   "source": [
    "np.sqrt(sum((np.array(qm_energies)/Natoms - np.array(gap3b_energies)/Natoms)**2)/len(gap3b_energies))"
   ]
  },
  {
   "cell_type": "code",
   "execution_count": null,
   "metadata": {
    "ExecuteTime": {
     "end_time": "2019-09-25T22:45:16.693223Z",
     "start_time": "2019-09-25T22:45:16.399472Z"
    }
   },
   "outputs": [],
   "source": [
    "plt.scatter(np.array(qm_energies)/Natoms, np.array(gap3b_energies)/Natoms)\n",
    "plt.show()"
   ]
  },
  {
   "cell_type": "markdown",
   "metadata": {},
   "source": [
    "We can generate dimers for visualising the pairwise potential: "
   ]
  },
  {
   "cell_type": "code",
   "execution_count": null,
   "metadata": {
    "ExecuteTime": {
     "end_time": "2019-09-25T22:45:17.307236Z",
     "start_time": "2019-09-25T22:45:16.697565Z"
    }
   },
   "outputs": [],
   "source": [
    "dimer_curve = []\n",
    "for dim in dimers:\n",
    "    dim.set_calculator(gap3b)\n",
    "    dimer_curve.append(dim.get_potential_energy())\n",
    "    \n",
    "plt.plot([dim.positions[1,0] for dim in dimers], np.array(dimer_curve)/2.0)\n",
    "plt.show()"
   ]
  },
  {
   "cell_type": "markdown",
   "metadata": {},
   "source": [
    "## Fitting the 2 and 3-body  and SOAP potential"
   ]
  },
  {
   "cell_type": "markdown",
   "metadata": {},
   "source": [
    "We will describe that environment using the SOAP descriptor and compare them using the SOAP kernel. Note right away that the quantum mechanically computed energies are not fully determined by the near-environment of atoms, so this is an early indication that we will be making use of the \"noise\" interpretation of the $\\lambda$ regularization parameter: we don't expect (and don't want) our fitted function to precisely go through each datapoint.\n",
    "\n",
    "The SOAP descriptor of an atomic environment is based on a spherical harmonic expansion of the neighbour density, and truncating this expansion at some maximum numer of radial (n_max) and angular (l_max) indices gives rise to some parameters. We also need to give the cutoff within which we consider the neighbour environment.\n",
    "\n",
    "Writing the descriptor vector as $p_{ss'nn'l}$, where $s$ and $s'$ are indices that run over the different atomic species in the atom's environment, $n$ and $n'$ are radial and $l$ is an angular index, the kernel between two atomic environments is\n",
    "\n",
    "$$\n",
    "K(p,p') = \\delta^2 \\left| \\sum_{ss'nn'l} p_{ss'nn'l} p'_{ss'nn'l}\\right|^\\zeta \\equiv \\delta^2 \\left| {\\bf p} \\cdot {\\bf p'}\\right|^\\zeta\n",
    "$$\n",
    "\n",
    "The factor of $\\delta^2$ allows the setting of the scale of fitted function, relative to the error specification $\\lambda$. "
   ]
  },
  {
   "cell_type": "code",
   "execution_count": null,
   "metadata": {
    "ExecuteTime": {
     "end_time": "2019-09-25T22:45:24.495956Z",
     "start_time": "2019-09-25T22:45:17.312801Z"
    },
    "scrolled": false
   },
   "outputs": [],
   "source": [
    "!gap_fit at_file=/tmp/atoms_db.xyz \\\n",
    "gap={distance_Nb order=2 \\\n",
    "                 cutoff=5.0 \\\n",
    "                 covariance_type=ARD_SE \\\n",
    "                 theta_uniform=1.0 \\\n",
    "                 n_sparse=15 \\\n",
    "                 delta=1.0:\\\n",
    "     distance_Nb order=3 \\\n",
    "                 cutoff=4.0 \\\n",
    "                 covariance_type=ARD_SE \\\n",
    "                 theta_uniform=1.0 \\\n",
    "                 n_sparse=50 \\\n",
    "                 delta=0.004:\\\n",
    "     soap cutoff=4.0 \\\n",
    "          covariance_type=dot_product \\\n",
    "          zeta=2 \\\n",
    "          delta=0.016 \\\n",
    "          atom_sigma=0.7 \\\n",
    "          l_max=6 \\\n",
    "          n_max=6 \\\n",
    "          n_sparse=200 \\\n",
    "          sparse_method=cur_points} \\\n",
    "e0=-29.716948405885105 \\\n",
    "default_sigma={0.001 0.5 0.0 0.0} \\\n",
    "do_copy_at_file=F sparse_separate_file=F \\\n",
    "gp_file=/tmp/gap_2b3bsoap.xml 2>&1 | grep -v FoX"
   ]
  },
  {
   "cell_type": "markdown",
   "metadata": {},
   "source": [
    "We can load and use the fitted potential:"
   ]
  },
  {
   "cell_type": "code",
   "execution_count": null,
   "metadata": {
    "ExecuteTime": {
     "end_time": "2019-09-25T22:45:31.872466Z",
     "start_time": "2019-09-25T22:45:24.499581Z"
    }
   },
   "outputs": [],
   "source": [
    "gap_soap = Potential(\"IP GAP\", param_filename='/tmp/gap_2b3bsoap.xml')\n",
    "gap_energies = []\n",
    "for at in db:\n",
    "    a = at.copy()\n",
    "    a.set_calculator(gap_soap)\n",
    "    gap_energies.append(a.get_potential_energy())"
   ]
  },
  {
   "cell_type": "markdown",
   "metadata": {},
   "source": [
    "We can also calculate the RMSE (in meV) as follows:"
   ]
  },
  {
   "cell_type": "code",
   "execution_count": null,
   "metadata": {
    "ExecuteTime": {
     "end_time": "2019-09-25T22:45:31.955836Z",
     "start_time": "2019-09-25T22:45:31.898441Z"
    }
   },
   "outputs": [],
   "source": [
    "np.sqrt(sum((np.array(qm_energies)/Natoms - np.array(gap_energies)/Natoms)**2)/len(gap_energies))"
   ]
  },
  {
   "cell_type": "code",
   "execution_count": null,
   "metadata": {
    "ExecuteTime": {
     "end_time": "2019-09-25T22:45:32.246843Z",
     "start_time": "2019-09-25T22:45:31.959788Z"
    }
   },
   "outputs": [],
   "source": [
    "plt.scatter(np.array(qm_energies)/Natoms, np.array(gap_energies)/Natoms)\n",
    "plt.show()"
   ]
  },
  {
   "cell_type": "markdown",
   "metadata": {},
   "source": [
    "## Using GAP for MD\n",
    "We can use now use the fitted potential to do MD or geometry relaxation:"
   ]
  },
  {
   "cell_type": "code",
   "execution_count": null,
   "metadata": {
    "ExecuteTime": {
     "end_time": "2019-09-25T22:45:32.259896Z",
     "start_time": "2019-09-25T22:45:32.250418Z"
    }
   },
   "outputs": [],
   "source": [
    "#attach tight binding calculator\n",
    "atoms.set_calculator(gap_soap)\n",
    "\n",
    "# Thermalize atoms\n",
    "# MaxwellBoltzmannDistribution(atoms, 2.0* T * units.kB)\n",
    "\n",
    "# dynamics = VelocityVerlet(atoms, timestep)\n",
    "dynamics = Langevin(atoms, timestep, T * units.kB, 0.002)\n",
    "    \n",
    "dynamics.attach(print_status, interval=10)\n",
    "dynamics.attach(print_energy, interval=10)"
   ]
  },
  {
   "cell_type": "markdown",
   "metadata": {},
   "source": [
    "Dynamics:"
   ]
  },
  {
   "cell_type": "code",
   "execution_count": null,
   "metadata": {
    "ExecuteTime": {
     "end_time": "2019-09-25T22:45:45.128606Z",
     "start_time": "2019-09-25T22:45:32.265254Z"
    }
   },
   "outputs": [],
   "source": [
    "dynamics.run(steps=100)"
   ]
  },
  {
   "cell_type": "markdown",
   "metadata": {},
   "source": [
    "Geometry optimisation:"
   ]
  },
  {
   "cell_type": "code",
   "execution_count": null,
   "metadata": {
    "ExecuteTime": {
     "end_time": "2019-09-25T22:45:45.175139Z",
     "start_time": "2019-09-25T22:45:45.137204Z"
    }
   },
   "outputs": [],
   "source": [
    "optatoms = db[0].copy()\n",
    "optatoms.set_calculator(gap_soap)\n",
    "opt = PreconLBFGS(optatoms, precon=Exp(3.0))"
   ]
  },
  {
   "cell_type": "code",
   "execution_count": null,
   "metadata": {
    "ExecuteTime": {
     "end_time": "2019-09-25T22:46:00.264930Z",
     "start_time": "2019-09-25T22:45:45.185216Z"
    },
    "scrolled": false
   },
   "outputs": [],
   "source": [
    "opt.run(fmax=0.01)"
   ]
  },
  {
   "cell_type": "markdown",
   "metadata": {},
   "source": [
    "Let's visualise the relaxed structure:"
   ]
  },
  {
   "cell_type": "code",
   "execution_count": null,
   "metadata": {
    "ExecuteTime": {
     "end_time": "2019-09-25T22:46:00.435231Z",
     "start_time": "2019-09-25T22:46:00.298120Z"
    },
    "scrolled": false
   },
   "outputs": [],
   "source": [
    "view = ViewStructure(optatoms, (2,2,1))\n",
    "view.camera= 'orthographic'\n",
    "view"
   ]
  },
  {
   "cell_type": "markdown",
   "metadata": {},
   "source": [
    "# I hope you enjoyed it! Have a nice day!"
   ]
  }
 ],
 "metadata": {
  "kernelspec": {
   "display_name": "Python 3",
   "language": "python",
   "name": "python3"
  },
  "language_info": {
   "codemirror_mode": {
    "name": "ipython",
    "version": 3
   },
   "file_extension": ".py",
   "mimetype": "text/x-python",
   "name": "python",
   "nbconvert_exporter": "python",
   "pygments_lexer": "ipython3",
   "version": "3.8.10"
  },
  "pycharm": {
   "stem_cell": {
    "cell_type": "raw",
    "metadata": {
     "collapsed": false
    },
    "source": []
   }
  }
 },
 "nbformat": 4,
 "nbformat_minor": 2
}
